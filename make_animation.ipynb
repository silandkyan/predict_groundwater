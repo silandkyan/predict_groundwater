{
 "cells": [
  {
   "cell_type": "code",
   "execution_count": 16,
   "id": "5f6b2087-a170-4fd8-81cd-00854a5696fb",
   "metadata": {},
   "outputs": [],
   "source": [
    "import glob\n",
    "from PIL import Image\n",
    "\n",
    "import cv2\n",
    "import os"
   ]
  },
  {
   "cell_type": "code",
   "execution_count": 17,
   "id": "a7291642-8897-442d-974e-2f949eec4920",
   "metadata": {},
   "outputs": [],
   "source": [
    "def make_gif(frame_folder):\n",
    "    # Find all JPEG images in the specified folder\n",
    "    paths = sorted(glob.glob(f\"{frame_folder}/*.png\"))\n",
    "    \n",
    "    # Open the images in the sorted order\n",
    "    frames = [Image.open(image) for image in paths]\n",
    "    \n",
    "    # Save the first frame as the initial frame of the GIF\n",
    "    frame_one = frames[0]\n",
    "    frame_one.save(f'{frame_folder}/animation.gif', format=\"GIF\",\n",
    "                   append_images=frames, save_all=True, \n",
    "                   duration=100, loop=0)\n"
   ]
  },
  {
   "cell_type": "code",
   "execution_count": 18,
   "id": "22a51531-a1b7-4bbe-9944-350e0fe8dc77",
   "metadata": {},
   "outputs": [],
   "source": [
    "def create_video_from_folder(image_folder, fps=10):\n",
    "    \"\"\"\n",
    "    Creates a video from images in a specified folder using OpenCV.\n",
    "\n",
    "    Parameters:\n",
    "    - image_folder: The path to the folder containing the images.\n",
    "    - video_name: The name of the output video file.\n",
    "    - fps: Frames per second for the video.\n",
    "    \"\"\"\n",
    "    # List all image files in the folder\n",
    "    images = sorted([img for img in os.listdir(image_folder) if img.endswith(\".png\")])    \n",
    "    # Read the first image to get the dimensions\n",
    "    frame = cv2.imread(os.path.join(image_folder, images[0]))\n",
    "    height, width, layers = frame.shape\n",
    "    \n",
    "    # Define the codec and create a VideoWriter object\n",
    "    fourcc = cv2.VideoWriter_fourcc(*'mp4v') # or use 'XVID'\n",
    "    video = cv2.VideoWriter(f'{image_folder}/animation.mov', fourcc, fps, (width, height))\n",
    "    \n",
    "    # Write each image to the video file\n",
    "    for image in images:\n",
    "        video.write(cv2.imread(os.path.join(image_folder, image)))\n",
    "    \n",
    "    # Release the VideoWriter\n",
    "    video.release()\n"
   ]
  },
  {
   "cell_type": "code",
   "execution_count": 20,
   "id": "323ab74a-b4f5-4682-8e9b-31f381e376f3",
   "metadata": {},
   "outputs": [],
   "source": [
    "folder = \"./figs/past_plots\"\n",
    "#folder = \"./figs/future_plots\""
   ]
  },
  {
   "cell_type": "code",
   "execution_count": 22,
   "id": "671a3fac-c820-4784-9eba-089edc637461",
   "metadata": {},
   "outputs": [],
   "source": [
    "create_video_from_folder(folder)"
   ]
  },
  {
   "cell_type": "code",
   "execution_count": 21,
   "id": "9f6f75d5-0de1-4dab-b66a-a69632ad45f4",
   "metadata": {},
   "outputs": [],
   "source": [
    "make_gif(folder)"
   ]
  },
  {
   "cell_type": "code",
   "execution_count": null,
   "id": "abee9b7a-c392-4a0d-b037-76a9dcfb1f60",
   "metadata": {},
   "outputs": [],
   "source": []
  }
 ],
 "metadata": {
  "kernelspec": {
   "display_name": "Python (geo)",
   "language": "python",
   "name": "geo"
  },
  "language_info": {
   "codemirror_mode": {
    "name": "ipython",
    "version": 3
   },
   "file_extension": ".py",
   "mimetype": "text/x-python",
   "name": "python",
   "nbconvert_exporter": "python",
   "pygments_lexer": "ipython3",
   "version": "3.9.18"
  }
 },
 "nbformat": 4,
 "nbformat_minor": 5
}
