{
 "cells": [
  {
   "cell_type": "code",
   "execution_count": 27,
   "id": "5f6b2087-a170-4fd8-81cd-00854a5696fb",
   "metadata": {},
   "outputs": [
    {
     "ename": "ModuleNotFoundError",
     "evalue": "No module named 'cv2'",
     "output_type": "error",
     "traceback": [
      "\u001b[0;31m---------------------------------------------------------------------------\u001b[0m",
      "\u001b[0;31mModuleNotFoundError\u001b[0m                       Traceback (most recent call last)",
      "Cell \u001b[0;32mIn[27], line 4\u001b[0m\n\u001b[1;32m      1\u001b[0m \u001b[38;5;28;01mimport\u001b[39;00m \u001b[38;5;21;01mglob\u001b[39;00m\n\u001b[1;32m      2\u001b[0m \u001b[38;5;28;01mfrom\u001b[39;00m \u001b[38;5;21;01mPIL\u001b[39;00m \u001b[38;5;28;01mimport\u001b[39;00m Image\n\u001b[0;32m----> 4\u001b[0m \u001b[38;5;28;01mimport\u001b[39;00m \u001b[38;5;21;01mcv2\u001b[39;00m\n\u001b[1;32m      5\u001b[0m \u001b[38;5;28;01mimport\u001b[39;00m \u001b[38;5;21;01mos\u001b[39;00m\n",
      "\u001b[0;31mModuleNotFoundError\u001b[0m: No module named 'cv2'"
     ]
    }
   ],
   "source": [
    "import glob\n",
    "from PIL import Image\n",
    "\n",
    "import cv2\n",
    "import os"
   ]
  },
  {
   "cell_type": "code",
   "execution_count": 28,
   "id": "a7291642-8897-442d-974e-2f949eec4920",
   "metadata": {},
   "outputs": [],
   "source": [
    "def make_gif(frame_folder):\n",
    "    # Find all JPEG images in the specified folder\n",
    "    paths = sorted(glob.glob(f\"{frame_folder}/*.png\"))\n",
    "    \n",
    "    # Open the images in the sorted order\n",
    "    frames = [Image.open(image) for image in paths]\n",
    "    \n",
    "    # Save the first frame as the initial frame of the GIF\n",
    "    frame_one = frames[0]\n",
    "    frame_one.save(f'{frame_folder}/animation.gif', format=\"GIF\",\n",
    "                   append_images=frames, save_all=True, \n",
    "                   duration=250, loop=0)\n"
   ]
  },
  {
   "cell_type": "code",
   "execution_count": null,
   "id": "22a51531-a1b7-4bbe-9944-350e0fe8dc77",
   "metadata": {},
   "outputs": [],
   "source": [
    "def create_video_from_folder(image_folder, fps=30):\n",
    "    \"\"\"\n",
    "    Creates a video from images in a specified folder using OpenCV.\n",
    "\n",
    "    Parameters:\n",
    "    - image_folder: The path to the folder containing the images.\n",
    "    - video_name: The name of the output video file.\n",
    "    - fps: Frames per second for the video.\n",
    "    \"\"\"\n",
    "    # List all image files in the folder\n",
    "    images = [img for img in os.listdir(image_folder) if img.endswith(\".png\")]\n",
    "    \n",
    "    # Read the first image to get the dimensions\n",
    "    frame = cv2.imread(os.path.join(image_folder, images[0]))\n",
    "    height, width, layers = frame.shape\n",
    "    \n",
    "    # Define the codec and create a VideoWriter object\n",
    "    fourcc = cv2.VideoWriter_fourcc(*'mp4v') # or use 'XVID'\n",
    "    video = cv2.VideoWriter('animation.mp4', fourcc, fps, (width, height))\n",
    "    \n",
    "    # Write each image to the video file\n",
    "    for image in images:\n",
    "        video.write(cv2.imread(os.path.join(image_folder, image)))\n",
    "    \n",
    "    # Release the VideoWriter\n",
    "    video.release()\n"
   ]
  },
  {
   "cell_type": "code",
   "execution_count": null,
   "id": "323ab74a-b4f5-4682-8e9b-31f381e376f3",
   "metadata": {},
   "outputs": [],
   "source": [
    "folder = \"./figs/past_plots\""
   ]
  },
  {
   "cell_type": "code",
   "execution_count": null,
   "id": "671a3fac-c820-4784-9eba-089edc637461",
   "metadata": {},
   "outputs": [],
   "source": [
    "create_video_from_folder(folder)"
   ]
  },
  {
   "cell_type": "code",
   "execution_count": 26,
   "id": "9f6f75d5-0de1-4dab-b66a-a69632ad45f4",
   "metadata": {},
   "outputs": [],
   "source": [
    "make_gif(folder)"
   ]
  }
 ],
 "metadata": {
  "kernelspec": {
   "display_name": "Python (geo)",
   "language": "python",
   "name": "geo"
  },
  "language_info": {
   "codemirror_mode": {
    "name": "ipython",
    "version": 3
   },
   "file_extension": ".py",
   "mimetype": "text/x-python",
   "name": "python",
   "nbconvert_exporter": "python",
   "pygments_lexer": "ipython3",
   "version": "3.9.18"
  }
 },
 "nbformat": 4,
 "nbformat_minor": 5
}
